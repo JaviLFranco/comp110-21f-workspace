{
 "cells": [
  {
   "cell_type": "markdown",
   "metadata": {},
   "source": [
    "Hypothesis: Students who took MATH 232 are driving down the average reported difficulty of the course."
   ]
  },
  {
   "cell_type": "markdown",
   "metadata": {},
   "source": [
    "Step one: read the csv file and convert it into a column-oriented data table."
   ]
  },
  {
   "cell_type": "code",
   "execution_count": 50,
   "metadata": {},
   "outputs": [],
   "source": [
    "%reload_ext autoreload\n",
    "%autoreload 2\n",
    "\n",
    "from data_utils import read_csv_rows, columnar\n",
    "\n",
    "data_rows: list[dict[str, str]] = read_csv_rows('../../data/survey.csv')\n",
    "columns: dict[str, list[str]] = columnar(data_rows)"
   ]
  },
  {
   "cell_type": "markdown",
   "metadata": {},
   "source": [
    "Step two: find those students who received credit for MATH 232 and create 2 lists: one with those who received credit for MATH 232, and one with those who did not."
   ]
  },
  {
   "cell_type": "code",
   "execution_count": 51,
   "metadata": {},
   "outputs": [],
   "source": [
    "list_received: list[dict[str, str]] = []\n",
    "list_not: list[dict[str, str]] = []\n",
    "\n",
    "for item in data_rows:\n",
    "    if \"MATH 232\" in item[\"prereqs\"]:\n",
    "        list_received.append(item)\n",
    "    else:\n",
    "        list_not.append(item)"
   ]
  },
  {
   "cell_type": "markdown",
   "metadata": {},
   "source": [
    "Step three: make two lists with the difficulty reported by the students, one with those who received credit for MATH 232, and one with those who did not."
   ]
  },
  {
   "cell_type": "code",
   "execution_count": 52,
   "metadata": {},
   "outputs": [],
   "source": [
    "difficulty_r: list[int] = []\n",
    "difficulty_n: list[int] = []\n",
    "\n",
    "for item in list_received:\n",
    "    difficulty_r.append(item[\"difficulty\"])\n",
    "\n",
    "for item in list_not:\n",
    "    difficulty_n.append(item[\"difficulty\"])"
   ]
  },
  {
   "cell_type": "markdown",
   "metadata": {},
   "source": [
    "Step four: calculate the mean difficulty of the students who already received the MATH 232 credit and of the students who did not receive it yet."
   ]
  },
  {
   "cell_type": "code",
   "execution_count": 53,
   "metadata": {},
   "outputs": [
    {
     "name": "stdout",
     "output_type": "stream",
     "text": [
      "Those students who received credit for MATH 232 before taking COMP 110 reported an average of 4.44672131147541 points of difficulty out of 7.\n",
      "Those students who received credit for MATH 232 before taking COMP 110 reported an average of 5.155015197568389 points of difficulty out of 7.\n"
     ]
    }
   ],
   "source": [
    "from data_utils import mean_finder\n",
    "\n",
    "mean_r: float = mean_finder(difficulty_r)\n",
    "\n",
    "print(f\"Those students who received credit for MATH 232 before taking COMP 110 reported an average of {mean_r} points of difficulty out of 7.\")\n",
    "\n",
    "mean_n: float = mean_finder(difficulty_n)\n",
    "\n",
    "print(f\"Those students who received credit for MATH 232 before taking COMP 110 reported an average of {mean_n} points of difficulty out of 7.\")"
   ]
  },
  {
   "cell_type": "markdown",
   "metadata": {},
   "source": [
    "Step five: select just the difficulty column. It will print the first 10 rows."
   ]
  },
  {
   "cell_type": "code",
   "execution_count": 54,
   "metadata": {},
   "outputs": [
    {
     "data": {
      "text/plain": [
       "{'difficulty': ['5', '3', '5', '6', '4', '5', '6', '5', '5', '7']}"
      ]
     },
     "execution_count": 54,
     "metadata": {},
     "output_type": "execute_result"
    }
   ],
   "source": [
    "from data_utils import head, select\n",
    "\n",
    "difficulty_column: dict[str, str] = select(columns, [\"difficulty\"])\n",
    "\n",
    "head(difficulty_column, 10)"
   ]
  },
  {
   "cell_type": "markdown",
   "metadata": {},
   "source": [
    "Step six: count the total number of students who did the survey. From those also count the number of students who did and did not receive credit for math 232."
   ]
  },
  {
   "cell_type": "code",
   "execution_count": 55,
   "metadata": {},
   "outputs": [
    {
     "name": "stdout",
     "output_type": "stream",
     "text": [
      "A total of 573 students did the survey.\n",
      "A total of 244 students had already received credit for MATH 232.\n",
      "A total of 329 students had not received credit for MATH 232.\n"
     ]
    }
   ],
   "source": [
    "from data_utils import count\n",
    "\n",
    "counter_a = count(difficulty_column['difficulty'])\n",
    "\n",
    "students: int = counter_a[\"1\"] + counter_a[\"2\"] + counter_a[\"3\"] + counter_a[\"4\"] + counter_a[\"5\"] + counter_a[\"6\"] + counter_a[\"7\"]\n",
    "\n",
    "print(f\"A total of {students} students did the survey.\")\n",
    "print(f\"A total of {len(difficulty_r)} students had already received credit for MATH 232.\")\n",
    "print(f\"A total of {len(difficulty_n)} students had not received credit for MATH 232.\")"
   ]
  },
  {
   "cell_type": "markdown",
   "metadata": {},
   "source": [
    "Conclusion: Out of the 573 students who did the survey, 244 had already received credit for MATH 232. These students reported an average difficulty of about 4.4 out of 7, while those who had not received credit for MATH 232 reported an average difficulty of about 5.2 out of 7. Therefore, students who already received credit for MATH 232 are driving the average reported difficulty down."
   ]
  }
 ],
 "metadata": {
  "interpreter": {
   "hash": "271a51994c579956682da721b7ec1c5c48ea8295be68f1de0131aef031ac922f"
  },
  "kernelspec": {
   "display_name": "Python 3.10.0 64-bit",
   "name": "python3"
  },
  "language_info": {
   "codemirror_mode": {
    "name": "ipython",
    "version": 3
   },
   "file_extension": ".py",
   "mimetype": "text/x-python",
   "name": "python",
   "nbconvert_exporter": "python",
   "pygments_lexer": "ipython3",
   "version": "3.10.0"
  },
  "orig_nbformat": 4
 },
 "nbformat": 4,
 "nbformat_minor": 2
}
